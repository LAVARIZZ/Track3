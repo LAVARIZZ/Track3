{
 "cells": [
  {
   "cell_type": "code",
   "execution_count": 2,
   "metadata": {},
   "outputs": [],
   "source": [
    "from PIL import Image\n",
    "import ollama"
   ]
  },
  {
   "cell_type": "code",
   "execution_count": 1,
   "metadata": {},
   "outputs": [],
   "source": [
    "# database_setup.py\n",
    "import sqlite3\n",
    "\n",
    "conn = sqlite3.connect('instagram_clone.db')\n",
    "c = conn.cursor()\n",
    "\n",
    "c.execute('''\n",
    "CREATE TABLE IF NOT EXISTS users (\n",
    "    id INTEGER PRIMARY KEY,\n",
    "    username TEXT NOT NULL,\n",
    "    profile_img TEXT\n",
    ")\n",
    "''')\n",
    "\n",
    "c.execute('''\n",
    "CREATE TABLE IF NOT EXISTS posts (\n",
    "    id INTEGER PRIMARY KEY,\n",
    "    user_id INTEGER,\n",
    "    image_url TEXT,\n",
    "    caption TEXT,\n",
    "    post_time TEXT,\n",
    "    FOREIGN KEY (user_id) REFERENCES users (id)\n",
    ")\n",
    "''')\n",
    "\n",
    "c.execute('''\n",
    "CREATE TABLE IF NOT EXISTS likes (\n",
    "    id INTEGER PRIMARY KEY,\n",
    "    post_id INTEGER,\n",
    "    user_id INTEGER,\n",
    "    FOREIGN KEY (post_id) REFERENCES posts (id),\n",
    "    FOREIGN KEY (user_id) REFERENCES users (id)\n",
    ")\n",
    "''')\n",
    "\n",
    "c.execute('''\n",
    "CREATE TABLE IF NOT EXISTS comments (\n",
    "    id INTEGER PRIMARY KEY,\n",
    "    post_id INTEGER,\n",
    "    user_id INTEGER,\n",
    "    comment TEXT,\n",
    "    comment_time TEXT,\n",
    "    FOREIGN KEY (post_id) REFERENCES posts (id),\n",
    "    FOREIGN KEY (user_id) REFERENCES users (id)\n",
    ")\n",
    "''')\n",
    "\n",
    "conn.commit()\n",
    "conn.close()\n"
   ]
  }
 ],
 "metadata": {
  "kernelspec": {
   "display_name": "tmp",
   "language": "python",
   "name": "python3"
  },
  "language_info": {
   "codemirror_mode": {
    "name": "ipython",
    "version": 3
   },
   "file_extension": ".py",
   "mimetype": "text/x-python",
   "name": "python",
   "nbconvert_exporter": "python",
   "pygments_lexer": "ipython3",
   "version": "3.9.19"
  }
 },
 "nbformat": 4,
 "nbformat_minor": 2
}
